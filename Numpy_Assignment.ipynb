{
  "nbformat": 4,
  "nbformat_minor": 0,
  "metadata": {
    "colab": {
      "provenance": []
    },
    "kernelspec": {
      "name": "python3",
      "display_name": "Python 3"
    },
    "language_info": {
      "name": "python"
    }
  },
  "cells": [
    {
      "cell_type": "code",
      "execution_count": null,
      "metadata": {
        "id": "q003XYXQr4_E"
      },
      "outputs": [],
      "source": []
    },
    {
      "cell_type": "markdown",
      "source": [
        "**Theoretical Questions**"
      ],
      "metadata": {
        "id": "xqrcDjrvr6U7"
      }
    },
    {
      "cell_type": "markdown",
      "source": [
        "1. Explain the purpose and advantages of NumPy in scientific computing and data analysis. How does it\n",
        "enhance Python's capabilities for numerical operations?"
      ],
      "metadata": {
        "id": "XVXp6suFsMX6"
      }
    },
    {
      "cell_type": "markdown",
      "source": [
        "ANSWER:\n",
        "NumPy (Numerical Python) is a fundamental library for scientific computing and data analysis in Python. Its main purpose is to provide support for large, multi-dimensional arrays and matrices, along with a vast collection of mathematical functions to operate on these arrays efficiently. Here’s how it enhances Python’s capabilities for numerical operations:\n",
        "\n",
        "* Efficient Array Operations: NumPy arrays (ndarrays) are much faster and more memory-efficient than Python lists, especially for large datasets. They allow element-wise operations, enabling efficient batch processing without loops.\n",
        "\n",
        "* Vectorization: NumPy enables vectorized operations, where complex calculations are performed on entire arrays without writing explicit loops, making the code more concise and faster.\n",
        "\n",
        "* Mathematical and Statistical Functions: NumPy provides an extensive suite of mathematical, statistical, and linear algebra functions, which are essential for scientific computations.\n",
        "\n",
        "* Interoperability with Other Libraries: Many scientific libraries (like SciPy, Pandas, and TensorFlow) are built on top of or closely integrate with NumPy, leveraging its fast array computations.\n",
        "\n",
        "* Memory Management: NumPy manages memory more efficiently, reducing the load on the CPU by using contiguous memory blocks and optimized data types, leading to faster performance.\n",
        "\n",
        "Overall, NumPy’s capabilities make Python a powerful tool for handling large data sets and performing complex calculations, supporting efficient and scalable scientific computing and data analysis."
      ],
      "metadata": {
        "id": "hpETG_njsRv_"
      }
    },
    {
      "cell_type": "markdown",
      "source": [
        "2.Compare and contrast np.mean() and np.average() functions in NumPy. When would you use one over the\n",
        "other?"
      ],
      "metadata": {
        "id": "8qyP7jtBsynH"
      }
    },
    {
      "cell_type": "markdown",
      "source": [
        "Answer:\n",
        "      Both np.mean() and np.average() are used in NumPy to calculate the central tendency of data, but they have subtle differences in functionality and use cases:\n",
        "\n",
        "1. Basic Functionality:\n",
        "np.mean(): Calculates the arithmetic mean of the elements along a specified axis. It computes the simple average without considering any weights.\n",
        "np.average(): Calculates a weighted average if weights are provided; otherwise, it behaves like np.mean().\n",
        "2. Parameters and Usage:\n",
        "np.mean():\n",
        "Syntax: np.mean(array, axis=None, dtype=None, out=None)\n",
        "No support for weights; simply takes an array and computes its mean.\n",
        "Useful when you need an unweighted mean and don’t require additional flexibility with weights.\n",
        "np.average():\n",
        "Syntax: np.average(array, weights=None, axis=None, returned=False)\n",
        "Accepts an additional weights parameter, allowing each element to have a different level of importance in the mean calculation.\n",
        "Can return a tuple with the average and the sum of weights if returned=True.\n",
        "3. Example Comparison:\n",
        "\n",
        "```\n",
        "import numpy as np\n",
        "\n",
        "data = np.array([1, 2, 3, 4])\n",
        "weights = np.array([1, 2, 3, 4])\n",
        "\n",
        "# Using np.mean()\n",
        "mean_result = np.mean(data)  # Output: 2.5\n",
        "\n",
        "# Using np.average() without weights\n",
        "average_no_weights = np.average(data)  # Output: 2.5\n",
        "\n",
        "# Using np.average() with weights\n",
        "weighted_average = np.average(data, weights=weights)  # Output: 3.0\n",
        "```\n",
        "\n",
        "4. When to Use Each:\n",
        "Use np.mean(): When you need a straightforward, unweighted average of your data.\n",
        "Use np.average(): When you need a weighted average or when the weights of data points are relevant to your calculation (e.g., combining data from different sources with varying importance).\n",
        "In summary, np.mean() is simpler and suitable for typical mean calculations, while np.average() offers more flexibility with weights, making it preferable when weighting is needed."
      ],
      "metadata": {
        "id": "exMPVgQes5nS"
      }
    },
    {
      "cell_type": "markdown",
      "source": [
        "3. Describe the methods for reversing a NumPy array along different axes. Provide examples for 1D and 2D\n",
        "arrays."
      ],
      "metadata": {
        "id": "EFik7Bsstjbq"
      }
    },
    {
      "cell_type": "markdown",
      "source": [
        "Answer:\n",
        "      To reverse a NumPy array, you can use slicing or np.flip():\n",
        "\n",
        "1D Array:\n",
        "\n",
        "Use slicing [::-1] to reverse the array.\n",
        "```\n",
        "arr_1d = np.array([1, 2, 3, 4, 5])\n",
        "reversed_1d = arr_1d[::-1]  # Output: [5, 4, 3, 2, 1]\n",
        "```\n",
        "\n",
        "2D Array:\n",
        "\n",
        "Reverse Rows: array[::-1, :]\n",
        "\n",
        "Reverse Columns: array[:, ::-1]\n",
        "\n",
        "Reverse Both: array[::-1, ::-1]\n",
        "\n",
        " ```\n",
        "arr_2d = np.array([[1, 2, 3], [4, 5, 6], [7, 8, 9]])\n",
        "reversed_rows = arr_2d[::-1, :]      # Reverses rows\n",
        "reversed_columns = arr_2d[:, ::-1]   # Reverses columns\n",
        "reversed_both = arr_2d[::-1, ::-1]   # Reverses both\n",
        "```\n",
        "\n",
        "Using np.flip(): Reverses along a specific axis or all axes.\n",
        "  \n",
        "```\n",
        "flipped = np.flip(arr_2d, axis=0)      # Flip along rows\n",
        "flipped_both = np.flip(arr_2d)         # Flip along both axes\n",
        "Summary: Use slicing for quick reversal, or np.flip() for clear axis-specific control.\n",
        "\n",
        "```\n",
        "\n",
        "\n",
        "\n",
        "\n",
        "\n",
        "\n"
      ],
      "metadata": {
        "id": "bkVyzDCAtovT"
      }
    },
    {
      "cell_type": "markdown",
      "source": [
        "4.How can you determine the data type of elements in a NumPy array? Discuss the importance of data types\n",
        "in memory management and performance"
      ],
      "metadata": {
        "id": "CS8bTmkmubSV"
      }
    },
    {
      "cell_type": "markdown",
      "source": [
        "Answer:\n",
        "      To determine the data type of elements in a NumPy array, you can use the .dtype attribute:\n",
        "\n",
        "```\n",
        "import numpy as np\n",
        "\n",
        "arr = np.array([1, 2, 3])\n",
        "print(arr.dtype)  # Output: int64 (or another integer type depending on your system)\n",
        "```\n",
        "\n",
        "\n",
        "Importance of Data Types in Memory Management and Performance\n",
        "1. Memory Efficiency:\n",
        "\n",
        "* Each data type in NumPy is associated with a specific amount of memory. For example, int32 uses 4 bytes, while float64 uses 8 bytes.\n",
        "* Choosing the appropriate data type can save memory, especially for large datasets. For instance, using int8 instead of int64 for small integers reduces memory consumption significantly.\n",
        "\n",
        "2. Performance Optimization:\n",
        "\n",
        "* Data types affect computational speed. Operations on smaller data types (e.g., int8 or float32) are generally faster than on larger types (int64 or float64) because they require less memory and processing power.\n",
        "* Using the smallest possible data type that can accurately represent your data can enhance performance, especially in high-volume computations common in scientific computing.\n",
        "\n",
        "3. Avoiding Overflow and Precision Errors:\n",
        "\n",
        "* Selecting the right data type helps avoid overflow (e.g., in integer operations) and precision issues (e.g., in floating-point calculations).\n",
        "* For instance, if your calculations require high precision, you should use float64 rather than float32 to prevent rounding errors.\n"
      ],
      "metadata": {
        "id": "qRzSyW1rujJ-"
      }
    },
    {
      "cell_type": "markdown",
      "source": [
        "5.  Define ndarrays in NumPy and explain their key features. How do they differ from standard Python lists?"
      ],
      "metadata": {
        "id": "LJ1y1uKIviRV"
      }
    },
    {
      "cell_type": "markdown",
      "source": [
        "Answer:\n",
        "\n",
        "In NumPy, an ndarray (n-dimensional array) is the primary data structure used for numerical computations. It's a multi-dimensional, fixed-size array with elements of the same data type.\n",
        "\n",
        "Key Features of ndarrays:\n",
        "1. Homogeneous Elements: All elements have the same data type, which enhances performance and memory efficiency.\n",
        "2. Multi-dimensional: Supports multiple dimensions (1D, 2D, etc.), useful for handling complex data structures like matrices.\n",
        "3. Fast and Memory-efficient: NumPy arrays are stored in contiguous memory, making them faster and more memory-efficient than lists.\n",
        "4. Vectorized Operations: Allows element-wise operations without loops, enabling efficient mathematical computations.\n",
        "5. Broadcasting: Automatically expands dimensions to perform operations on arrays of different shapes.\n",
        "\n",
        "\n",
        "Difference from Python Lists:\n",
        "1. Performance: ndarrays are faster due to contiguous memory storage and support for vectorized operations.\n",
        "2. Fixed Size and Type: Unlike lists, they have a fixed size and require all elements to be the same type.\n",
        "3. Built-in Mathematical Operations: NumPy provides extensive functions for array manipulation and mathematical operations that lists lack."
      ],
      "metadata": {
        "id": "5fCJnNe4vxkf"
      }
    },
    {
      "cell_type": "markdown",
      "source": [
        "6. Analyze the performance benefits of NumPy arrays over Python lists for large-scale numerical operations"
      ],
      "metadata": {
        "id": "RifrlGcRwDog"
      }
    },
    {
      "cell_type": "markdown",
      "source": [
        "Answer:\n",
        "NumPy arrays provide significant performance benefits over Python lists for large-scale numerical operations due to the following reasons:\n",
        "\n",
        "1. Contiguous Memory Allocation:\n",
        "\n",
        "* NumPy arrays are stored in contiguous memory blocks, allowing the CPU to access elements more quickly compared to Python lists, which store elements in scattered memory locations.\n",
        "* This reduces memory overhead and improves data retrieval speed.\n",
        "\n",
        "2. Homogeneous Data Type:\n",
        "\n",
        "* All elements in a NumPy array have the same data type, which reduces the need for type checking during operations, leading to faster execution.\n",
        "* Python lists can contain elements of different types, which adds overhead during iteration and arithmetic operations.\n",
        "\n",
        "3. Vectorized Operations:\n",
        "\n",
        "* NumPy supports vectorized operations, meaning you can perform arithmetic directly on entire arrays without explicit loops, leveraging optimized C and Fortran code underneath.\n",
        "* For instance, adding two large arrays element-wise is significantly faster in NumPy than using a loop in Python.\n",
        "\n",
        "4. Broadcasting:\n",
        "\n",
        "* NumPy's broadcasting allows operations on arrays of different shapes without manually resizing them, reducing the complexity and time taken for certain operations.\n",
        "\n",
        "5. Efficient Memory Usage:\n",
        "\n",
        "* NumPy arrays use less memory compared to lists, as they don’t store type or pointer information for each element separately.\n",
        "* This is crucial for large datasets, where memory efficiency directly affects performance."
      ],
      "metadata": {
        "id": "yrUOkTfMwHX7"
      }
    },
    {
      "cell_type": "markdown",
      "source": [
        "7.  Compare vstack() and hstack() functions in NumPy. Provide examples demonstrating their usage and\n",
        "output"
      ],
      "metadata": {
        "id": "rbXixJDFwkZD"
      }
    },
    {
      "cell_type": "markdown",
      "source": [
        "Answer:\n",
        "\n",
        "In NumPy, vstack() and hstack() are functions used to stack arrays along different axes:\n",
        "\n",
        "1. np.vstack():\n",
        "\n",
        "Stacks arrays vertically (row-wise).\n",
        "Takes arrays with the same number of columns and combines them along a new row axis.\n",
        "\n",
        "2. np.hstack():\n",
        "\n",
        "Stacks arrays horizontally (column-wise).\n",
        "Takes arrays with the same number of rows and combines them along a new column axis.\n",
        "Examples\n",
        "\n",
        "```\n",
        "import numpy as np\n",
        "\n",
        "# Define two sample arrays\n",
        "arr1 = np.array([[1, 2], [3, 4]])\n",
        "arr2 = np.array([[5, 6], [7, 8]])\n",
        "```\n",
        "\n",
        "Using np.vstack()\n",
        "Stacks arr1 and arr2 vertically, adding rows.\n",
        "\n",
        "```\n",
        "vstack_result = np.vstack((arr1, arr2))\n",
        "print(\"Vertical Stack (vstack):\\n\", vstack_result)\n",
        "# Output:\n",
        "# [[1 2]\n",
        "#  [3 4]\n",
        "#  [5 6]\n",
        "#  [7 8]]\n",
        "```\n",
        "\n",
        "\n",
        "Using np.hstack()\n",
        "Stacks arr1 and arr2 horizontally, adding columns.\n",
        "\n",
        "\n",
        "```\n",
        "hstack_result = np.hstack((arr1, arr2))\n",
        "print(\"Horizontal Stack (hstack):\\n\", hstack_result)\n",
        "# Output:\n",
        "# [[1 2 5 6]\n",
        "#  [3 4 7 8]]\n",
        "```\n",
        "\n",
        "\n",
        "Key Differences\n",
        "* vstack(): Extends the array by adding rows; arrays must have the same number of columns.\n",
        "* hstack(): Extends the array by adding columns; arrays must have the same number of rows.\n"
      ],
      "metadata": {
        "id": "_vOffn8Wwo8O"
      }
    },
    {
      "cell_type": "markdown",
      "source": [
        "8. Explain the differences between fliplr() and flipud() methods in NumPy, including their effects on various\n",
        "array dimensions"
      ],
      "metadata": {
        "id": "T-tXYnA5xP1r"
      }
    },
    {
      "cell_type": "markdown",
      "source": [
        "Answer:\n",
        "In NumPy, fliplr() and flipud() are functions used to reverse the order of elements in arrays along specific axes:\n",
        "\n",
        "np.fliplr():\n",
        "\n",
        "* Stands for \"flip left to right\".\n",
        "* Reverses the order of columns (horizontal flip) in a 2D array, or the last axis for higher-dimensional arrays.\n",
        "* Only works on arrays with two or more dimensions.\n",
        "\n",
        "Effect:\n",
        "\n",
        "Each row remains the same, but the columns within each row are reversed.\n",
        "\n",
        "```\n",
        "import numpy as np\n",
        "\n",
        "arr = np.array([[1, 2, 3],\n",
        "                [4, 5, 6],\n",
        "                [7, 8, 9]])\n",
        "\n",
        "result = np.fliplr(arr)\n",
        "print(\"fliplr:\\n\", result)\n",
        "# Output:\n",
        "# [[3 2 1]\n",
        "#  [6 5 4]\n",
        "#  [9 8 7]]\n",
        "```\n",
        "\n",
        "np.flipud():\n",
        "\n",
        "* Stands for \"flip up to down\".\n",
        "* Reverses the order of rows (vertical flip) in a 2D array, or the first axis for higher-dimensional arrays.\n",
        "* Can work on arrays with any number of dimensions.\n",
        "\n",
        "\n",
        "Effect:\n",
        "\n",
        "Each column remains the same, but the rows are reversed.\n",
        "\n",
        "```\n",
        "result = np.flipud(arr)\n",
        "print(\"flipud:\\n\", result)\n",
        "# Output:\n",
        "# [[7 8 9]\n",
        "#  [4 5 6]\n",
        "#  [1 2 3]]\n",
        "```"
      ],
      "metadata": {
        "id": "EzAP_NL3xVHl"
      }
    },
    {
      "cell_type": "markdown",
      "source": [
        "9. Discuss the functionality of the array_split() method in NumPy. How does it handle uneven splits?"
      ],
      "metadata": {
        "id": "sk7zJKnPyGq1"
      }
    },
    {
      "cell_type": "markdown",
      "source": [
        "Answer:\n",
        "\n",
        "The array_split() method in NumPy is used to divide an array into multiple sub-arrays. This method allows for flexible splitting of arrays, making it useful for tasks where data needs to be segmented for analysis or processing.\n",
        "\n",
        "Functionality of array_split()\n",
        "\n",
        "Syntax:\n",
        "\n",
        "```\n",
        "numpy.array_split(ary, indices_or_sections, axis=0)\n",
        "```\n",
        "\n",
        "Parameters:\n",
        "\n",
        "* ary: The input array to be split.\n",
        "* indices_or_sections:\n",
        "** This can be an integer specifying the number of equal sections to split the array into.\n",
        "** Alternatively, it can be an array of indices specifying where to split the array.\n",
        "* axis: The axis along which to split the array. The default is 0 (vertical split for 2D arrays).\n",
        "\n",
        "Handling Uneven Splits\n",
        "\n",
        "When the array cannot be split evenly, array_split() handles the remainder by distributing the extra elements among the resulting sub-arrays. Here’s how it works:\n",
        "\n",
        "If you specify an integer for indices_or_sections, NumPy will try to split the array into that many parts. If the array length is not perfectly divisible by the specified number, some sub-arrays will have one more element than others.\n",
        "\n",
        "If you provide specific indices for splitting, it will cut the array at those indices, regardless of whether the resulting sub-arrays are of equal size.\n",
        "\n",
        "Example Usage\n",
        "Here’s an example illustrating the use of array_split():\n",
        "\n",
        "```\n",
        "import numpy as np\n",
        "\n",
        "# Create an example array\n",
        "arr = np.array([1, 2, 3, 4, 5, 6, 7, 8, 9])\n",
        "\n",
        "# Split into 3 parts\n",
        "split_even = np.array_split(arr, 3)\n",
        "print(\"Split into 3 parts:\")\n",
        "for i, sub_arr in enumerate(split_even):\n",
        "    print(f\"Part {i+1}: {sub_arr}\")\n",
        "\n",
        "# Split using specific indices\n",
        "split_indices = np.array_split(arr, [2, 5])  # Split at indices 2 and 5\n",
        "print(\"\\nSplit using specific indices:\")\n",
        "for i, sub_arr in enumerate(split_indices):\n",
        "    print(f\"Sub-array {i+1}: {sub_arr}\")\n",
        "```\n",
        "\n",
        "Output\n",
        "\n",
        "yaml\n",
        "\n",
        "Split into 3 parts:\n",
        "\n",
        "Part 1: [1 2 3]\n",
        "\n",
        "Part 2: [4 5 6]\n",
        "\n",
        "Part 3: [7 8 9]\n",
        "\n",
        "Split using specific indices:\n",
        "\n",
        "Sub-array 1: [1 2]\n",
        "\n",
        "Sub-array 2: [3 4 5]\n",
        "\n",
        "Sub-array 3: [6 7 8 9]"
      ],
      "metadata": {
        "id": "rbAQxb-dyXRE"
      }
    },
    {
      "cell_type": "markdown",
      "source": [
        "10. Explain the concepts of vectorization and broadcasting in NumPy. How do they contribute to efficient array\n",
        "operations?"
      ],
      "metadata": {
        "id": "w3l7AxOQzDkm"
      }
    },
    {
      "cell_type": "markdown",
      "source": [
        "Answer:\n",
        "Vectorization and broadcasting are two powerful concepts in NumPy that enhance the efficiency of array operations, making computations faster and more intuitive.\n",
        "\n",
        "Vectorization\n",
        "\n",
        "Definition: Vectorization refers to the ability to perform operations on entire arrays or large datasets without the need for explicit loops in Python. Instead of iterating through elements one by one, NumPy allows operations to be applied directly to whole arrays at once.\n",
        "\n",
        "Benefits:\n",
        "\n",
        "* Performance: Operations are executed in optimized, low-level C code, which is significantly faster than Python loops.\n",
        "* Simplicity: Code is more concise and readable, reducing complexity in array manipulation.\n",
        "\n",
        "Example: Instead of using a loop to add two arrays element-wise, you can directly use:\n",
        "\n",
        "```\n",
        "import numpy as np\n",
        "\n",
        "a = np.array([1, 2, 3])\n",
        "b = np.array([4, 5, 6])\n",
        "\n",
        "# Vectorized addition\n",
        "result = a + b\n",
        "print(result)  # Output: [5 7 9]\n",
        "```\n",
        "\n",
        "Broadcasting\n",
        "\n",
        "Definition: Broadcasting is a technique that allows NumPy to perform operations on arrays of different shapes and sizes. When the shapes of the arrays are compatible, NumPy automatically expands the smaller array to match the shape of the larger one during the operation.\n",
        "\n",
        "Rules for Broadcasting:\n",
        "\n",
        "* If the arrays have different numbers of dimensions, the shape of the smaller-dimensional array is padded with ones on the left until both shapes are the same.\n",
        "* The sizes of the dimensions are compared element-wise. They are compatible when:\n",
        "They are equal, or\n",
        "One of them is 1 (which allows for expansion).\n",
        "\n",
        "Benefits:\n",
        "\n",
        "Flexibility: Allows operations between arrays of different shapes without needing to manually reshape them.\n",
        "\n",
        "Efficiency: Reduces memory overhead since no actual copying of data is required; broadcasting creates a view instead of duplicating the data.\n",
        "\n",
        "Example: Adding a scalar to a 1D array automatically broadcasts the scalar to each element of the array:\n",
        "\n",
        "```\n",
        "c = np.array([1, 2, 3])\n",
        "scalar = 5\n",
        "\n",
        "# Broadcasting the scalar addition\n",
        "result_broadcast = c + scalar\n",
        "print(result_broadcast)  # Output: [6 7 8]\n",
        "```\n",
        "\n",
        "Or for two arrays of different shapes:\n",
        "\n",
        "```\n",
        "d = np.array([[1], [2], [3]])  # Shape (3, 1)\n",
        "e = np.array([4, 5, 6])        # Shape (3,)\n",
        "\n",
        "# Broadcasting to add\n",
        "result_broadcast_multi = d + e\n",
        "print(result_broadcast_multi)\n",
        "# Output:\n",
        "# [[5 6 7]\n",
        "#  [6 7 8]\n",
        "#  [7 8 9]]\n",
        "```\n"
      ],
      "metadata": {
        "id": "G8Fu0RlgzKd0"
      }
    },
    {
      "cell_type": "markdown",
      "source": [
        "**Practical Questions:**"
      ],
      "metadata": {
        "id": "8-W81i_P-c0L"
      }
    },
    {
      "cell_type": "markdown",
      "source": [
        "1.Create a 3x3 NumPy array with random integers between 1 and 100. Then, interchange its rows and columns"
      ],
      "metadata": {
        "id": "bVkWSVUw-j8W"
      }
    },
    {
      "cell_type": "code",
      "source": [
        "import numpy as np\n",
        "a=np.random.randint(1,101,size=(3,3))\n",
        "b=a.T\n",
        "print(\"original array\")\n",
        "print(a)\n",
        "print(\"transposed array\")\n",
        "print(b)"
      ],
      "metadata": {
        "colab": {
          "base_uri": "https://localhost:8080/"
        },
        "id": "1G_8TObW-qtG",
        "outputId": "47d020f7-83ff-4b42-a8f5-51dd4dea922f"
      },
      "execution_count": 2,
      "outputs": [
        {
          "output_type": "stream",
          "name": "stdout",
          "text": [
            "original array\n",
            "[[ 8  3 68]\n",
            " [26 67 95]\n",
            " [82 43 99]]\n",
            "transposed array\n",
            "[[ 8 26 82]\n",
            " [ 3 67 43]\n",
            " [68 95 99]]\n"
          ]
        }
      ]
    },
    {
      "cell_type": "markdown",
      "source": [
        "2.Generate a 1D NumPy array with 10 elements. Reshape it into a 2x5 array, then into a 5x2 array"
      ],
      "metadata": {
        "id": "N1lDUYgWAXyf"
      }
    },
    {
      "cell_type": "code",
      "source": [
        "import numpy as np\n",
        "a=np.random.randint(1,11,size=(10))\n",
        "print(a)\n",
        "b=a.reshape(2,5)\n",
        "print(b)\n",
        "c=b.reshape(5,2)\n",
        "print(c)"
      ],
      "metadata": {
        "colab": {
          "base_uri": "https://localhost:8080/"
        },
        "id": "AlVZ_2nxAekD",
        "outputId": "c2297395-6ee7-4d74-cfe4-c43eb8c7d2d7"
      },
      "execution_count": 3,
      "outputs": [
        {
          "output_type": "stream",
          "name": "stdout",
          "text": [
            "[ 4  3  7  9 10 10  2  8  4  8]\n",
            "[[ 4  3  7  9 10]\n",
            " [10  2  8  4  8]]\n",
            "[[ 4  3]\n",
            " [ 7  9]\n",
            " [10 10]\n",
            " [ 2  8]\n",
            " [ 4  8]]\n"
          ]
        }
      ]
    },
    {
      "cell_type": "markdown",
      "source": [
        "3. Create a 4x4 NumPy array with random float values. Add a border of zeros around it, resulting in a 6x6 array."
      ],
      "metadata": {
        "id": "KPw9hwYsA_3j"
      }
    },
    {
      "cell_type": "code",
      "source": [
        "import numpy as np\n",
        "a=np.random.rand(4,4)\n",
        "print(a)\n",
        "b=np.pad(a,pad_width=1,mode='constant',constant_values=0)\n",
        "print(b)"
      ],
      "metadata": {
        "colab": {
          "base_uri": "https://localhost:8080/"
        },
        "id": "cVZPPq9eBEkt",
        "outputId": "f832482c-9efd-4c7c-f483-05344b8f91b5"
      },
      "execution_count": 4,
      "outputs": [
        {
          "output_type": "stream",
          "name": "stdout",
          "text": [
            "[[0.56267405 0.68805937 0.73161797 0.47929254]\n",
            " [0.7335037  0.33086599 0.18867488 0.61028296]\n",
            " [0.31293938 0.20276326 0.02937456 0.28094606]\n",
            " [0.65203472 0.25941178 0.60090147 0.16539991]]\n",
            "[[0.         0.         0.         0.         0.         0.        ]\n",
            " [0.         0.56267405 0.68805937 0.73161797 0.47929254 0.        ]\n",
            " [0.         0.7335037  0.33086599 0.18867488 0.61028296 0.        ]\n",
            " [0.         0.31293938 0.20276326 0.02937456 0.28094606 0.        ]\n",
            " [0.         0.65203472 0.25941178 0.60090147 0.16539991 0.        ]\n",
            " [0.         0.         0.         0.         0.         0.        ]]\n"
          ]
        }
      ]
    },
    {
      "cell_type": "markdown",
      "source": [
        "4. Using NumPy, create an array of integers from 10 to 60 with a step of 5"
      ],
      "metadata": {
        "id": "1Pq2SOEeBgX3"
      }
    },
    {
      "cell_type": "code",
      "source": [
        "import numpy as np\n",
        "a=np.arange(10,61,5)\n",
        "print(a)"
      ],
      "metadata": {
        "colab": {
          "base_uri": "https://localhost:8080/"
        },
        "id": "lPCN_Z5cBmt0",
        "outputId": "d85bd9c3-4842-4680-ad02-60d339a72031"
      },
      "execution_count": 5,
      "outputs": [
        {
          "output_type": "stream",
          "name": "stdout",
          "text": [
            "[10 15 20 25 30 35 40 45 50 55 60]\n"
          ]
        }
      ]
    },
    {
      "cell_type": "markdown",
      "source": [
        "5.Create a NumPy array of strings ['python', 'numpy', 'pandas']. Apply different case transformations\n",
        "(uppercase, lowercase, title case, etc.) to each element."
      ],
      "metadata": {
        "id": "DeeG_-9qBzLp"
      }
    },
    {
      "cell_type": "code",
      "source": [
        "import numpy as np\n",
        "a=np.array(['python', 'numpy', 'pandas'])\n",
        "print(a)\n",
        "b=np.char.upper(a)\n",
        "print(b)\n",
        "c=np.char.lower(a)\n",
        "print(c)\n",
        "d=np.char.title(a)\n",
        "print(d)"
      ],
      "metadata": {
        "colab": {
          "base_uri": "https://localhost:8080/"
        },
        "id": "IJ5wHkjPB4B5",
        "outputId": "1bb8c4b4-d4a4-45fe-9129-3dc2f37076fc"
      },
      "execution_count": 6,
      "outputs": [
        {
          "output_type": "stream",
          "name": "stdout",
          "text": [
            "['python' 'numpy' 'pandas']\n",
            "['PYTHON' 'NUMPY' 'PANDAS']\n",
            "['python' 'numpy' 'pandas']\n",
            "['Python' 'Numpy' 'Pandas']\n"
          ]
        }
      ]
    },
    {
      "cell_type": "markdown",
      "source": [
        "6.Generate a NumPy array of words. Insert a space between each character of every word in the array."
      ],
      "metadata": {
        "id": "SM5ARkx_CIGW"
      }
    },
    {
      "cell_type": "code",
      "source": [
        "import numpy as np\n",
        "a=np.array(['python', 'numpy', 'pandas'])\n",
        "b=np.char.join(' ',a)\n",
        "print(b)\n"
      ],
      "metadata": {
        "colab": {
          "base_uri": "https://localhost:8080/"
        },
        "id": "XObW6vjfCRwC",
        "outputId": "78af05f9-ecdf-40df-ec9d-824c18f89549"
      },
      "execution_count": 7,
      "outputs": [
        {
          "output_type": "stream",
          "name": "stdout",
          "text": [
            "['p y t h o n' 'n u m p y' 'p a n d a s']\n"
          ]
        }
      ]
    },
    {
      "cell_type": "markdown",
      "source": [
        "7. Create two 2D NumPy arrays and perform element-wise addition, subtraction, multiplication, and division."
      ],
      "metadata": {
        "id": "jWhYd9rKCk5h"
      }
    },
    {
      "cell_type": "code",
      "source": [
        "import numpy as np\n",
        "a=np.random.randint(1,10,size=(3,3))\n",
        "b=np.random.randint(1,10,size=(3,3))\n",
        "print(a)\n",
        "print(b)\n",
        "c=a+b\n",
        "print(c)\n",
        "d=a-b\n",
        "print(d)\n",
        "e=a*b\n",
        "print(e)\n",
        "f=a/b\n",
        "print(f)"
      ],
      "metadata": {
        "colab": {
          "base_uri": "https://localhost:8080/"
        },
        "id": "ZQNu8Ga_CqWe",
        "outputId": "8e3d48c5-485e-4de9-912c-5cfc1fbb633a"
      },
      "execution_count": 8,
      "outputs": [
        {
          "output_type": "stream",
          "name": "stdout",
          "text": [
            "[[6 5 8]\n",
            " [3 8 4]\n",
            " [3 4 1]]\n",
            "[[3 1 3]\n",
            " [6 1 4]\n",
            " [2 5 9]]\n",
            "[[ 9  6 11]\n",
            " [ 9  9  8]\n",
            " [ 5  9 10]]\n",
            "[[ 3  4  5]\n",
            " [-3  7  0]\n",
            " [ 1 -1 -8]]\n",
            "[[18  5 24]\n",
            " [18  8 16]\n",
            " [ 6 20  9]]\n",
            "[[2.         5.         2.66666667]\n",
            " [0.5        8.         1.        ]\n",
            " [1.5        0.8        0.11111111]]\n"
          ]
        }
      ]
    },
    {
      "cell_type": "markdown",
      "source": [
        "8. Use NumPy to create a 5x5 identity matrix, then extract its diagonal elements."
      ],
      "metadata": {
        "id": "mwdcYVTRDHQb"
      }
    },
    {
      "cell_type": "code",
      "source": [
        "import numpy as np\n",
        "a=np.eye(5,dtype=int)\n",
        "print(a)\n",
        "b=np.diag(a)\n",
        "print(b)"
      ],
      "metadata": {
        "colab": {
          "base_uri": "https://localhost:8080/"
        },
        "id": "ytAYibYyDNCn",
        "outputId": "2074dbe6-8d63-4fe9-f371-9532821b2a37"
      },
      "execution_count": 10,
      "outputs": [
        {
          "output_type": "stream",
          "name": "stdout",
          "text": [
            "[[1 0 0 0 0]\n",
            " [0 1 0 0 0]\n",
            " [0 0 1 0 0]\n",
            " [0 0 0 1 0]\n",
            " [0 0 0 0 1]]\n",
            "[1 1 1 1 1]\n"
          ]
        }
      ]
    },
    {
      "cell_type": "markdown",
      "source": [
        "9. Generate a NumPy array of 100 random integers between 0 and 1000. Find and display all prime numbers in\n",
        "this array."
      ],
      "metadata": {
        "id": "_BsNxGn5DdLU"
      }
    },
    {
      "cell_type": "code",
      "source": [
        "import numpy as np\n",
        "a=np.random.randint(0,1001,size=(100))\n",
        "for i in a:\n",
        "    if i>1:\n",
        "        for j in range(2,i//2):\n",
        "            if i%j==0:\n",
        "                break\n",
        "        else:\n",
        "            print(i)"
      ],
      "metadata": {
        "colab": {
          "base_uri": "https://localhost:8080/"
        },
        "id": "8CIMMwW3DikI",
        "outputId": "77939a11-29fa-486d-dc49-c7da12a1a7ce"
      },
      "execution_count": 11,
      "outputs": [
        {
          "output_type": "stream",
          "name": "stdout",
          "text": [
            "313\n",
            "241\n",
            "3\n",
            "919\n",
            "2\n",
            "727\n",
            "389\n",
            "367\n",
            "379\n",
            "607\n",
            "4\n",
            "2\n",
            "719\n",
            "907\n",
            "421\n",
            "619\n",
            "401\n",
            "883\n",
            "761\n",
            "641\n",
            "313\n",
            "607\n"
          ]
        }
      ]
    },
    {
      "cell_type": "markdown",
      "source": [
        "10. Create a NumPy array representing daily temperatures for a month. Calculate and display the weekly\n",
        "averages."
      ],
      "metadata": {
        "id": "b5ZrGJnJEL2l"
      }
    },
    {
      "cell_type": "code",
      "source": [
        "import numpy as np\n",
        "a=np.random.uniform(0,50,size=(28))\n",
        "b=a.reshape(4,7)\n",
        "c=np.mean(b,axis=1)\n",
        "print(c)\n"
      ],
      "metadata": {
        "colab": {
          "base_uri": "https://localhost:8080/"
        },
        "id": "-hb_fBbHEP6q",
        "outputId": "f53eb510-6688-46de-ec2d-3986bd9b1e3c"
      },
      "execution_count": 15,
      "outputs": [
        {
          "output_type": "stream",
          "name": "stdout",
          "text": [
            "[15.34120327 28.17890329 19.53675682 17.92007955]\n"
          ]
        }
      ]
    }
  ]
}