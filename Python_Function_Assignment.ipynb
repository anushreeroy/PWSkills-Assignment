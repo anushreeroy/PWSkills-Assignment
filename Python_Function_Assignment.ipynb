{
  "nbformat": 4,
  "nbformat_minor": 0,
  "metadata": {
    "colab": {
      "provenance": []
    },
    "kernelspec": {
      "name": "python3",
      "display_name": "Python 3"
    },
    "language_info": {
      "name": "python"
    }
  },
  "cells": [
    {
      "cell_type": "code",
      "execution_count": null,
      "metadata": {
        "id": "pUoxJKF7BjPW"
      },
      "outputs": [],
      "source": []
    },
    {
      "cell_type": "markdown",
      "source": [
        "1. What is the difference between a function and a method in Python?"
      ],
      "metadata": {
        "id": "nN46BSHVBnJM"
      }
    },
    {
      "cell_type": "markdown",
      "source": [
        "### Difference Between Function and Method in Python\n",
        "\n",
        "In Python, a **function** and a **method** are both callable entities, but they differ in their association with objects and classes.\n",
        "\n",
        "1. **Function**:\n",
        "    - A function is an independent block of reusable code.\n",
        "    - It is defined outside any class.\n",
        "    - Functions are called on their own, not on objects.\n",
        "    - They can accept arguments and return values.\n",
        "\n",
        "    Example:\n",
        "    ```python\n",
        "    # Defining a function\n",
        "    def greet(name):\n",
        "        return f\"Hello, {name}!\"\n",
        "    \n",
        "    # Calling the function\n",
        "    print(greet(\"Anushree\"))\n",
        "    ```\n",
        "\n",
        "2. **Method**:\n",
        "    - A method is a function defined inside a class and is associated with an object (instance of the class).\n",
        "    - It is called on an instance of the class, and often operates on that object’s data (via `self`).\n",
        "    - Methods can either be instance methods (work on instance data) or class methods (work on class-level data).\n",
        "\n",
        "    Example:\n",
        "    ```python\n",
        "    # Defining a class with a method\n",
        "    class Greeter:\n",
        "        def __init__(self, name):\n",
        "            self.name = name\n",
        "        \n",
        "        def greet(self):\n",
        "            return f\"Hello, {self.name}!\"\n",
        "    \n",
        "    # Creating an instance and calling the method\n",
        "    obj = Greeter(\"Anushree\")\n",
        "    print(obj.greet())  # Method call on an object\n",
        "    ```\n",
        "\n",
        "### Key Differences:\n",
        "- **Function**: Not bound to objects or classes.\n",
        "- **Method**: Bound to an object or class (through `self` or `cls` parameters).\n"
      ],
      "metadata": {
        "id": "JAZ6bcIOCPIO"
      }
    },
    {
      "cell_type": "markdown",
      "source": [
        "2. Explain the concept of function arguments and parameters in Python"
      ],
      "metadata": {
        "id": "q078wU1BCS9M"
      }
    },
    {
      "cell_type": "markdown",
      "source": [
        "### Function Arguments and Parameters in Python\n",
        "\n",
        "In Python, **parameters** and **arguments** are used to pass data into functions.\n",
        "\n",
        "#### 1. Parameters:\n",
        "- **Parameters** are the variables listed in the function definition.\n",
        "- They act as placeholders to accept values when the function is called.\n",
        "\n",
        "Example:\n",
        "```python\n",
        "def greet(name):  # 'name' is a parameter\n",
        "    return f\"Hello, {name}!\"\n",
        "### Function Arguments and Parameters in Python\n",
        "\n",
        "#### 2. Arguments:\n",
        "- **Arguments** are the actual values passed to the function when it is called.\n",
        "- They provide data to the function, which is then assigned to the parameters.\n",
        "\n",
        "Example:\n",
        "```python\n",
        "print(greet(\"Anushree\"))  # \"Anushree\" is an argument\n"
      ],
      "metadata": {
        "id": "YXwlsLhADK7f"
      }
    },
    {
      "cell_type": "markdown",
      "source": [
        "3. What are the different ways to define and call a function in Python"
      ],
      "metadata": {
        "id": "d0Eu19BNI5G_"
      }
    },
    {
      "cell_type": "markdown",
      "source": [
        "Function Definition:\n",
        "\n",
        "A function is a block of code that performs a specific task.\n",
        "It's defined using the def keyword followed by the function name, parentheses for arguments, and a colon.\n",
        "The function body is indented below the colon.\n",
        "Example:\n",
        "\n",
        "\n",
        "\n",
        "\n",
        "```\n",
        "def greet():\n",
        "  print(\"Hello, world!\")\n",
        "```\n",
        "Function Calling:\n",
        "\n",
        "To execute a function, you call it by its name followed by parentheses.\n",
        "If the function takes arguments, provide them within the parentheses.\n",
        "Example:\n",
        "```\n",
        "greet()  # Calls the greet function\n",
        "```\n",
        "Arguments and Parameters:\n",
        "\n",
        "Arguments are the values passed to a function when it's called.\n",
        "Parameters are the variables defined within the function's parentheses to receive the arguments.\n",
        "Example:\n",
        "```\n",
        "def greet_name(name):\n",
        "  print(\"Hello, \" + name + \"!\")\n",
        "\n",
        "greet_name(\"Alice\")  # Passes \"Alice\" as an argument\n",
        "\n",
        "```\n",
        "Default Arguments:\n",
        "\n",
        "You can assign default values to parameters, which are used if no argument is provided.\n",
        "Example:\n",
        "```\n",
        "def greet_with_greeting(name, greeting=\"Hello\"):\n",
        "  print(greeting + \", \" + name + \"!\")\n",
        "\n",
        "greet_with_greeting(\"Bob\")  # Uses the default greeting \"Hello\"\n",
        "```\n",
        "Return Values:\n",
        "\n",
        "Functions can return values using the return keyword.\n",
        "Example:\n",
        "```\n",
        "def add(x, y):\n",
        "  return x + y\n",
        "\n",
        "result = add(3, 4)\n",
        "print(\"The result is:\", result)\n",
        "```\n",
        "Keyword Arguments:\n",
        "\n",
        "You can pass arguments using keyword arguments, where the argument name is specified.\n",
        "Example:\n",
        "```\n",
        "def greet_kwargs(**kwargs):\n",
        "  print(\"Hello, \" + kwargs.get(\"name\", \"world\") + \"!\")\n",
        "\n",
        "greet_kwargs(name=\"David\")\n",
        "```\n",
        "Arbitrary Arguments:\n",
        "\n",
        "Functions can take an arbitrary number of arguments using the *args syntax.\n",
        "Example:\n",
        "```\n",
        "def greet_args(*args):\n",
        "  print(\"Hello, \" + \", \".join(args) + \"!\")\n",
        "\n",
        "greet_args(\"Eve\", \"Frank\", \"Grace\")\n",
        "```"
      ],
      "metadata": {
        "id": "9Q4uDkuvI8AO"
      }
    },
    {
      "cell_type": "markdown",
      "source": [
        "4. What is the purpose of the `return` statement in a Python function?\n"
      ],
      "metadata": {
        "id": "-1Pncud8Jhqd"
      }
    },
    {
      "cell_type": "markdown",
      "source": [
        "The purpose of the return statement in a Python function is to:\n",
        "\n",
        "Exit the function: Once a return statement is encountered, the function terminates immediately, and control is passed back to the calling code.\n",
        "\n",
        "Return a value: The return statement is used to send a value or result from the function back to the caller. If no value is specified after return, it returns None by default.\n",
        "\n",
        "Example 1: Returning a Value\n",
        "```\n",
        "def square(x):\n",
        "    return x * x\n",
        "\n",
        "result = square(5)  # result will be 25\n",
        "print(result)  # Output: 25\n",
        "```\n",
        "Example 2: Returning Multiple Values\n",
        "Python functions can return multiple values as a tuple.\n",
        "\n",
        "```\n",
        "def operations(a, b):\n",
        "    return a + b, a - b, a * b\n",
        "\n",
        "result = operations(10, 5)\n",
        "print(result)  # Output: (15, 5, 50)\n",
        "\n",
        "```\n",
        "Example 3: Early Exit from a Function\n",
        "You can use the return statement to exit the function early, before it reaches the end.\n",
        "\n",
        "```\n",
        "def check_positive(number):\n",
        "    if number <= 0:\n",
        "        return \"Not a positive number\"\n",
        "    return \"Positive number\"\n",
        "\n",
        "print(check_positive(10))  # Output: Positive number\n",
        "print(check_positive(-3))  # Output: Not a positive number\n",
        "```"
      ],
      "metadata": {
        "id": "M79HD3uHJyyu"
      }
    },
    {
      "cell_type": "markdown",
      "source": [
        "5. What are iterators in Python and how do they differ from iterables?\n"
      ],
      "metadata": {
        "id": "WUm-FsojJ-T-"
      }
    },
    {
      "cell_type": "markdown",
      "source": [
        "Iterators and Iterables in Python\n",
        "In Python, iterators and iterables are two related but distinct concepts that are used to iterate over collections of data.\n",
        "\n",
        "1. Iterable:\n",
        "An iterable is any Python object capable of returning its elements one at a time, allowing you to loop through it. It has an __iter__() method that returns an iterator.\n",
        "\n",
        "Examples of iterables include lists, tuples, strings, dictionaries, and sets.\n",
        "\n",
        "Example of an iterable:\n",
        "\n",
        "```\n",
        "my_list = [1, 2, 3]  # This is an iterable\n",
        "for item in my_list:\n",
        "    print(item)\n",
        "```\n",
        "In this case, my_list is an iterable because it can return its elements one by one using a loop.\n",
        "\n",
        "2. Iterator:\n",
        "An iterator is an object that represents a stream of data. It is returned by calling iter() on an iterable.\n",
        "An iterator must implement two methods:\n",
        "__iter__(): Returns the iterator object itself.\n",
        "__next__(): Returns the next element in the sequence. If there are no more items, it raises the StopIteration exception.\n",
        "Example of an iterator:\n",
        "```\n",
        "my_list = [1, 2, 3]  # This is an iterable\n",
        "iterator = iter(my_list)  # This returns an iterator\n",
        "print(next(iterator))  # Output: 1\n",
        "print(next(iterator))  # Output: 2\n",
        "print(next(iterator))  # Output: 3\n",
        "\n",
        "```"
      ],
      "metadata": {
        "id": "gvx5ljKzKNIv"
      }
    },
    {
      "cell_type": "markdown",
      "source": [
        "6.  Explain the concept of generators in Python and how they are defined"
      ],
      "metadata": {
        "id": "Ng0zC2D2KZZp"
      }
    },
    {
      "cell_type": "markdown",
      "source": [
        "Generators in Python are a special type of iterable, similar to iterators, but with a more elegant syntax for creating iterators. They are defined using functions and the yield keyword, which allows them to produce a sequence of values lazily, meaning they generate values one at a time and only when required.\n",
        "\n",
        "Key Characteristics of Generators:\n",
        "* Memory Efficient: Unlike lists, generators do not store all values in memory at once. They yield items one by one, making them more memory-efficient, especially when dealing with large datasets.\n",
        "* Lazy Evaluation: Generators compute values only when they are needed, thus saving computation time and memory.\n",
        "* Defined using yield: Instead of return, a generator uses the yield keyword to return values one at a time.\n",
        "\n",
        "How Generators are Defined:\n",
        "Generators are defined using a function with one or more yield statements. Each time yield is encountered, the function returns a value and pauses its state, resuming where it left off when next() is called again.\n",
        "\n",
        "Example of a Generator:\n",
        "Here’s a simple generator function that yields a sequence of numbers from 1 to 3:\n",
        "```\n",
        "def simple_generator():\n",
        "    yield 1\n",
        "    yield 2\n",
        "    yield 3\n",
        "\n",
        "# Using the generator\n",
        "gen = simple_generator()\n",
        "print(next(gen))  # Output: 1\n",
        "print(next(gen))  # Output: 2\n",
        "print(next(gen))  # Output: 3\n",
        "\n",
        "```\n",
        "How Generators Work:\n",
        "\n",
        "When the function is called, it does not execute immediately. Instead, it returns a generator object.\n",
        "Calling next() on this generator object will execute the function until it hits the next yield statement, then it returns the yielded value.\n",
        "The function's state is preserved between next() calls, allowing it to resume where it left off.\n",
        "Example of a Generator that Generates a Range of Numbers:\n",
        "This generator function mimics Python's built-in range() function:\n",
        "\n",
        "```\n",
        "def my_range(start, end):\n",
        "    current = start\n",
        "    while current < end:\n",
        "        yield current\n",
        "        current += 1\n",
        "\n",
        "# Using the generator\n",
        "for number in my_range(1, 5):\n",
        "    print(number)\n",
        "# Output:\n",
        "# 1\n",
        "# 2\n",
        "# 3\n",
        "# 4\n",
        "\n",
        "```\n",
        "In this example, the generator produces numbers from start to end - 1 using the yield keyword.\n",
        "\n",
        "Difference Between yield and return:\n",
        "return ends the function execution and returns a value.\n",
        "yield pauses the function, saving its state, and allows the function to resume from where it left off.\n",
        "Generator Expressions:\n",
        "Python also provides generator expressions, which are similar to list comprehensions but generate values lazily.\n",
        "\n",
        "Example:\n",
        "\n",
        "```\n",
        "gen_exp = (x * x for x in range(5))\n",
        "\n",
        "for value in gen_exp:\n",
        "    print(value)\n",
        "# Output:\n",
        "# 0\n",
        "# 1\n",
        "# 4\n",
        "# 9\n",
        "# 16\n",
        "\n",
        "```\n",
        "Here, gen_exp is a generator expression that yields squares of numbers from 0 to 4."
      ],
      "metadata": {
        "id": "VySAAlJTKpsF"
      }
    },
    {
      "cell_type": "markdown",
      "source": [
        "7. What are the advantages of using generators over regular functions?"
      ],
      "metadata": {
        "id": "TznP1JB5LGOB"
      }
    },
    {
      "cell_type": "markdown",
      "source": [
        "Generators offer several advantages over regular functions, particularly when it comes to handling large datasets or sequences of values. Here are some key benefits:\n",
        "\n",
        "1. Memory Efficiency\n",
        "Lazy Evaluation: Generators yield items one at a time and only when requested, meaning they don’t need to store the entire dataset in memory. This makes them particularly useful for large datasets or infinite sequences, where loading everything at once would be impractical.\n",
        "\n",
        "Example:\n",
        "\n",
        "```\n",
        "def large_range(n):\n",
        "    for i in range(n):\n",
        "        yield i\n",
        "\n",
        "# This will not consume memory for all numbers at once\n",
        "for num in large_range(1000000):\n",
        "    print(num)  # Generates numbers on-the-fly\n",
        "```\n",
        "2. Improved Performance\n",
        "Reduced Overhead: Since generators only compute values when needed, they can be more efficient in terms of processing time, especially for computations that are expensive or not always required.\n",
        "3. Simplicity and Readability\n",
        "Cleaner Code: Using yield can lead to simpler and more readable code compared to managing the state manually in regular functions. Generators abstract away the complexities of managing state.\n",
        "\n",
        "Example:\n",
        "\n",
        "```\n",
        "def countdown(n):\n",
        "    while n > 0:\n",
        "        yield n\n",
        "        n -= 1\n",
        "```\n",
        "4. Infinite Sequences\n",
        "Easy to Handle Infinite Data: Generators can produce an infinite sequence of values without running out of memory, as they generate values on-the-fly. This is useful for scenarios such as streaming data.\n",
        "\n",
        "Example:\n",
        "\n",
        "```\n",
        "def infinite_numbers():\n",
        "    n = 0\n",
        "    while True:\n",
        "        yield n\n",
        "        n += 1\n",
        "\n",
        "gen = infinite_numbers()\n",
        "for _ in range(5):\n",
        "    print(next(gen))  # Output: 0, 1, 2, 3, 4\n",
        "```\n",
        "5. State Preservation\n",
        "Function State: Generators automatically preserve their state between calls. This allows them to pause execution and resume from where they left off, making them suitable for certain algorithms like state machines or simulations.\n",
        "6. Pipelining Generators\n",
        "Chaining Generators: Generators can be easily chained together, allowing you to build a pipeline for processing data. This makes it easy to transform data step-by-step without needing to load everything into memory.\n",
        "\n",
        "Example:\n",
        "\n",
        "```\n",
        "def square(numbers):\n",
        "    for n in numbers:\n",
        "        yield n * n\n",
        "\n",
        "def filter_even(numbers):\n",
        "    for n in numbers:\n",
        "        if n % 2 == 0:\n",
        "            yield n\n",
        "\n",
        "nums = range(10)\n",
        "for result in filter_even(square(nums)):\n",
        "    print(result)  # Output: 0, 4, 16, 36, 64\n",
        "```\n",
        "7. Error Handling with StopIteration\n",
        "Natural Error Handling: When a generator is exhausted, it raises a StopIteration exception, which is a natural part of the iteration process. This is useful for writing robust loops."
      ],
      "metadata": {
        "id": "_l2wDh7QLf4X"
      }
    },
    {
      "cell_type": "markdown",
      "source": [
        "8. What is a lambda function in Python and when is it typically used?"
      ],
      "metadata": {
        "id": "88kzzg4_Lu5S"
      }
    },
    {
      "cell_type": "markdown",
      "source": [
        "A lambda function in Python is a small, anonymous function defined using the lambda keyword. Unlike regular functions defined with the def keyword, lambda functions are limited to a single expression. They are often used for short, simple operations that are not intended to be reused elsewhere in the code.\n",
        "\n",
        "Syntax\n",
        "The basic syntax of a lambda function is:\n",
        "\n",
        "```\n",
        "lambda arguments: expression\n",
        "```\n",
        "Characteristics of Lambda Functions\n",
        "Anonymous: Lambda functions do not have a name. They are often used where a function is required for a short period of time.\n",
        "Single Expression: They can only contain a single expression, which is evaluated and returned. They cannot include statements or multiple expressions.\n",
        "Return Value: The result of the expression is returned automatically without needing an explicit return statement.\n",
        "Example of a Lambda Function\n",
        "Here’s a simple example of a lambda function that adds two numbers:\n",
        "\n",
        "```\n",
        "add = lambda x, y: x + y\n",
        "result = add(3, 5)\n",
        "print(result)  # Output: 8\n",
        "```\n",
        "Common Use Cases for Lambda Functions\n",
        "Inline Function Definitions: They are often used for short-lived functions where defining a full function with def would be unnecessary.\n",
        "\n",
        "```\n",
        "print((lambda x: x * x)(5))  # Output: 25\n",
        "```\n",
        "Higher-Order Functions: Lambda functions are commonly used as arguments to higher-order functions, such as map(), filter(), and reduce().\n",
        "\n",
        "Using with map():\n",
        "\n",
        "```\n",
        "numbers = [1, 2, 3, 4]\n",
        "squares = list(map(lambda x: x ** 2, numbers))\n",
        "print(squares)  # Output: [1, 4, 9, 16]\n",
        "```\n",
        "Using with filter():\n",
        "\n",
        "```\n",
        "numbers = [1, 2, 3, 4, 5]\n",
        "even_numbers = list(filter(lambda x: x % 2 == 0, numbers))\n",
        "print(even_numbers)  # Output: [2, 4]\n",
        "```\n",
        "Sorting: Lambda functions are often used as the key argument in sorting functions.\n",
        "\n",
        "```\n",
        "pairs = [(1, 'one'), (3, 'three'), (2, 'two')]\n",
        "pairs.sort(key=lambda x: x[0])  # Sort by the first element\n",
        "print(pairs)  # Output: [(1, 'one'), (2, 'two'), (3, 'three')]\n",
        "```\n",
        "Customizing Behavior: They can be used to customize behavior in functions that expect a callable, like callback functions in GUI programming."
      ],
      "metadata": {
        "id": "JgNdDNmAL6ka"
      }
    },
    {
      "cell_type": "markdown",
      "source": [
        "9. Explain the purpose and usage of the `map()` function in Python\n"
      ],
      "metadata": {
        "id": "psniY1TIMh1z"
      }
    },
    {
      "cell_type": "markdown",
      "source": [
        "The map() function is a built-in function in Python that applies a specified function to each item in an iterable (like a list, tuple, or string) and returns an iterator (a map object) that yields the results. It is a convenient way to process and transform data in a collection without explicitly using a loop.\n",
        "\n",
        "Purpose of map()\n",
        "The primary purpose of the map() function is to simplify the process of transforming data. It allows you to apply a function to each item in an iterable, enabling concise and readable code.\n",
        "\n",
        "Syntax\n",
        "```\n",
        "map(function, iterable, ...)\n",
        "```\n",
        "function: A function that takes one or more arguments and is applied to each item in the iterable. This can be a built-in function, a user-defined function, or a lambda function.\n",
        "iterable: One or more iterables (e.g., lists, tuples) that you want to process.\n",
        "You can pass multiple iterables to map(), in which case the function must accept the same number of arguments as the number of iterables.\n",
        "Example Usage of map()\n",
        "1. Using a Regular Function\n",
        "Here’s an example that uses a defined function to square each number in a list:\n",
        "\n",
        "```\n",
        "def square(x):\n",
        "    return x ** 2\n",
        "\n",
        "numbers = [1, 2, 3, 4, 5]\n",
        "squared_numbers = map(square, numbers)\n",
        "# Convert the map object to a list to see the results\n",
        "print(list(squared_numbers))  # Output: [1, 4, 9, 16, 25]\n",
        "```\n",
        "\n",
        "2. Using a Lambda Function\n",
        "You can also use a lambda function with map() for more concise code:\n",
        "\n",
        "```\n",
        "numbers = [1, 2, 3, 4, 5]\n",
        "squared_numbers = map(lambda x: x ** 2, numbers)\n",
        "\n",
        "print(list(squared_numbers))  # Output: [1, 4, 9, 16, 25]\n",
        "\n",
        "```\n",
        "\n",
        "\n",
        "3. Using Multiple Iterables\n",
        "When passing multiple iterables to map(), the function should take multiple arguments:\n",
        "\n",
        "```\n",
        "def add(x, y):\n",
        "    return x + y\n",
        "\n",
        "a = [1, 2, 3]\n",
        "b = [4, 5, 6]\n",
        "result = map(add, a, b)\n",
        "\n",
        "print(list(result))  # Output: [5, 7, 9]\n",
        "\n",
        "```"
      ],
      "metadata": {
        "id": "g-prkezvMmKN"
      }
    },
    {
      "cell_type": "markdown",
      "source": [
        "10. What is the difference between `map()`, `reduce()`, and `filter()` functions in Python?\n"
      ],
      "metadata": {
        "id": "cHmQ-BcWNHCI"
      }
    },
    {
      "cell_type": "markdown",
      "source": [
        "The map(), reduce(), and filter() functions in Python are all higher-order functions that process iterables, but they serve different purposes and have distinct behaviors. Here’s a detailed comparison of each function:\n",
        "\n",
        "1. map()\n",
        "Purpose: Applies a specified function to each item in an iterable (like a list or tuple) and returns an iterator yielding the results.\n",
        "Input: Takes a function and one or more iterables as arguments.\n",
        "Output: Returns a map object (which can be converted to a list or another iterable).\n",
        "Use Case: Used for transforming data by applying a function to every element in the iterable.\n",
        "Example:\n",
        "```\n",
        "numbers = [1, 2, 3, 4, 5]\n",
        "squared_numbers = map(lambda x: x ** 2, numbers)\n",
        "print(list(squared_numbers))  # Output: [1, 4, 9, 16, 25]\n",
        "```\n",
        "\n",
        "2. reduce()\n",
        "Purpose: Applies a specified function cumulatively to the items of an iterable, reducing the iterable to a single value.\n",
        "Input: Takes a function and an iterable as arguments.\n",
        "Output: Returns a single value (not an iterable).\n",
        "Use Case: Used for performing operations that combine elements, such as summing numbers or multiplying items together.\n",
        "Example:\n",
        "```\n",
        "from functools import reduce\n",
        "numbers = [1, 2, 3, 4]\n",
        "product = reduce(lambda x, y: x * y, numbers)\n",
        "print(product)  # Output: 24 (1 * 2 * 3 * 4)\n",
        "```\n",
        "3. filter()\n",
        "Purpose: Filters the items in an iterable based on a specified condition defined by a function, returning only those items for which the function evaluates to True.\n",
        "Input: Takes a function and an iterable as arguments.\n",
        "Output: Returns a filter object (which can be converted to a list or another iterable).\n",
        "Use Case: Used for extracting elements from an iterable that satisfy a certain condition.\n",
        "Example:\n",
        "\n",
        "\n",
        "```\n",
        "numbers = [1, 2, 3, 4, 5]\n",
        "even_numbers = filter(lambda x: x % 2 == 0, numbers)\n",
        "print(list(even_numbers))  # Output: [2, 4]\n",
        "\n",
        "```"
      ],
      "metadata": {
        "id": "Wql9eZQbNLeE"
      }
    },
    {
      "cell_type": "markdown",
      "source": [
        "11. Using pen & Paper write the internal mechanism for sum operation using  reduce function on this given\n",
        "list:[47,11,42,13]"
      ],
      "metadata": {
        "id": "38zWNZdhN3AU"
      }
    },
    {
      "cell_type": "code",
      "source": [
        "from functools import reduce\n",
        "def add(x, y):\n",
        "    return x + y\n",
        "numbers = [47, 11, 42, 13]\n",
        "result = reduce(add, numbers)\n"
      ],
      "metadata": {
        "id": "jAVaEHy8PXtv"
      },
      "execution_count": null,
      "outputs": []
    },
    {
      "cell_type": "markdown",
      "source": [
        "![Screenshot 2024-10-20 193706.png](data:image/png;base64,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)"
      ],
      "metadata": {
        "id": "rqL5gd5EQZ8d"
      }
    }
  ]
}