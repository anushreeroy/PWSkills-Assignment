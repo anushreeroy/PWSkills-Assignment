{
  "nbformat": 4,
  "nbformat_minor": 0,
  "metadata": {
    "colab": {
      "provenance": []
    },
    "kernelspec": {
      "name": "python3",
      "display_name": "Python 3"
    },
    "language_info": {
      "name": "python"
    }
  },
  "cells": [
    {
      "cell_type": "code",
      "execution_count": null,
      "metadata": {
        "id": "V7vLaPJ0eqIt"
      },
      "outputs": [],
      "source": []
    },
    {
      "cell_type": "markdown",
      "source": [
        "1. What are the five key concepts of Object-Oriented Programming (OOP)?"
      ],
      "metadata": {
        "id": "hbOUw-SGespm"
      }
    },
    {
      "cell_type": "markdown",
      "source": [
        "The five key concepts of Object-Oriented Programming (OOP) are:\n",
        "\n",
        "Encapsulation: This concept refers to bundling the data (attributes) and methods (functions) that operate on the data into a single unit or class. It also involves restricting access to certain components of an object to protect the integrity of the data, allowing only authorized parts of the code to modify it. This is achieved through access modifiers like private, public, and protected.\n",
        "\n",
        "Abstraction: Abstraction is the process of hiding the complex implementation details and exposing only the essential features of an object. It helps to simplify the use of objects and focus on what they do rather than how they do it. Abstract classes and interfaces in programming languages like Java and C++ are examples of abstraction.\n",
        "\n",
        "Inheritance: Inheritance is a mechanism by which one class (child or subclass) can inherit the properties and behaviors (methods) of another class (parent or superclass). It promotes code reusability and establishes a hierarchical relationship between classes.\n",
        "\n",
        "Polymorphism: Polymorphism allows objects of different classes to be treated as objects of a common superclass. It provides a way to perform a single action in different forms. Polymorphism can be achieved through method overloading (compile-time) and method overriding (runtime).\n",
        "\n",
        "Class and Object: A class is a blueprint or template for creating objects (instances). It defines the properties (attributes) and behaviors (methods) that its objects will have. An object is an instance of a class that contains actual values for the attributes defined in the class. Objects interact with one another using methods."
      ],
      "metadata": {
        "id": "NpqdiZGBe305"
      }
    },
    {
      "cell_type": "markdown",
      "source": [
        "2. Write a Python class for a `Car` with attributes for `make`, `model`, and `year`. Include a method to display\n",
        "the car's information."
      ],
      "metadata": {
        "id": "Zi9-iLqHe535"
      }
    },
    {
      "cell_type": "code",
      "source": [
        "class Car:\n",
        "    def __init__(self, make, model, year):\n",
        "        self.make = make\n",
        "        self.model = model\n",
        "        self.year = year\n",
        "\n",
        "    def display_info(self):\n",
        "        print(f\"Car Information: {self.year} {self.make} {self.model}\")\n",
        "\n",
        "# Example usage:\n",
        "car1 = Car(\"Toyota\", \"Camry\", 2021)\n",
        "car1.display_info()\n"
      ],
      "metadata": {
        "id": "EEhIgSwHfB5b"
      },
      "execution_count": null,
      "outputs": []
    },
    {
      "cell_type": "markdown",
      "source": [
        "3. Explain the difference between instance methods and class methods. Provide an example of each."
      ],
      "metadata": {
        "id": "gpmL7TdofDjc"
      }
    },
    {
      "cell_type": "markdown",
      "source": [
        "In Python, instance methods and class methods are two types of methods that are used within a class, but they differ in how they operate and what kind of data they interact with.\n",
        "\n",
        "1. Instance Methods:\n",
        "* Instance methods are the most common type of methods in a class.\n",
        "* They operate on instances (objects) of the class and can access or modify instance-specific data (i.e., attributes).\n",
        "* They require an instance of the class to be called and automatically receive the instance as the first argument, which is conventionally named self.\n",
        "Example:\n",
        "\n",
        "```\n",
        "class Dog:\n",
        "    def __init__(self, name, breed):\n",
        "        self.name = name\n",
        "        self.breed = breed\n",
        "\n",
        "    # Instance method\n",
        "    def bark(self):\n",
        "        return f\"{self.name} says Woof!\"\n",
        "\n",
        "# Creating an instance of Dog\n",
        "dog1 = Dog(\"Buddy\", \"Golden Retriever\")\n",
        "print(dog1.bark())  # Output: Buddy says Woof!\n",
        "\n",
        "```\n",
        "\n",
        "2. Class Methods:\n",
        "* Class methods are methods that operate on the class itself, not on instances.\n",
        "* They have access to the class-level data and can modify the class’s state, but cannot directly modify instance-specific data.\n",
        "* To define a class method, use the @classmethod decorator, and the first parameter is cls (conventionally), referring to the class itself.\n",
        "\n",
        "Example:\n",
        "\n",
        "```\n",
        "class Dog:\n",
        "    species = \"Canis lupus\"  # Class attribute\n",
        "\n",
        "    def __init__(self, name, breed):\n",
        "        self.name = name\n",
        "        self.breed = breed\n",
        "\n",
        "    @classmethod\n",
        "    def get_species(cls):\n",
        "        return f\"All dogs belong to the species: {cls.species}\"\n",
        "\n",
        "# Calling the class method\n",
        "print(Dog.get_species())  # Output: All dogs belong to the species: Canis lupus\n",
        "\n",
        "```\n"
      ],
      "metadata": {
        "id": "iYDKdgdxfPU0"
      }
    },
    {
      "cell_type": "markdown",
      "source": [
        "4. How does Python implement method overloading? Give an example."
      ],
      "metadata": {
        "id": "kUZ0B4M2ftDe"
      }
    },
    {
      "cell_type": "markdown",
      "source": [
        "Python does not support traditional method overloading (where multiple methods with the same name but different signatures exist) as seen in languages like Java or C++. Instead, Python handles this by allowing default arguments, variable-length arguments, and keyword arguments to simulate the behavior of method overloading.\n",
        "\n",
        "How Python Handles Method Overloading:\n",
        "* Default arguments: You can provide default values for parameters, allowing the method to be called with a variable number of arguments.\n",
        "* Variable-length arguments: You can use *args or **kwargs to accept a variable number of positional or keyword arguments, respectively.\n",
        "* Manual argument handling: You can check the types and number of arguments within the method and branch accordingly.\n",
        "Example: Simulating Method Overloading with Default Arguments\n",
        "\n",
        "```\n",
        "class Calculator:\n",
        "    def add(self, a, b=0, c=0):\n",
        "        return a + b + c\n",
        "\n",
        "# Example usage\n",
        "calc = Calculator()\n",
        "\n",
        "print(calc.add(5))         # Output: 5 (Only one argument, so b and c default to 0)\n",
        "print(calc.add(5, 10))     # Output: 15 (b is provided, c defaults to 0)\n",
        "print(calc.add(5, 10, 15)) # Output: 30 (All three arguments are provided)\n",
        "\n",
        "```"
      ],
      "metadata": {
        "id": "wDu8qPthf0a_"
      }
    },
    {
      "cell_type": "markdown",
      "source": [
        "5.  What are the three types of access modifiers in Python? How are they denoted?"
      ],
      "metadata": {
        "id": "xNrmv8IUgDyE"
      }
    },
    {
      "cell_type": "markdown",
      "source": [
        "In Python, there are three types of access modifiers that control the visibility and accessibility of variables and methods within a class. These are:\n",
        "\n",
        "1. Public:\n",
        "Denoted by: No leading underscores (_).\n",
        "\n",
        "Accessibility: Public attributes and methods are accessible from anywhere, both inside and outside the class.\n",
        "\n",
        "Example:\n",
        "\n",
        "```\n",
        "class Car:\n",
        "    def __init__(self, make, model):\n",
        "        self.make = make    # Public attribute\n",
        "        self.model = model  # Public attribute\n",
        "\n",
        "    def display(self):      # Public method\n",
        "        return f\"{self.make} {self.model}\"\n",
        "\n",
        "car1 = Car(\"Toyota\", \"Camry\")\n",
        "print(car1.make)  # Accessible outside the class\n",
        "print(car1.display())  # Accessible outside the class\n",
        "```\n",
        "\n",
        "2. Protected:\n",
        "Denoted by: A single leading underscore (_).\n",
        "\n",
        "Accessibility: Protected attributes and methods are intended to be accessed within the class and its subclasses. However, Python doesn't strictly enforce this, and protected members can still be accessed outside the class (though this is discouraged).\n",
        "\n",
        "Example:\n",
        "\n",
        "```\n",
        "class Car:\n",
        "    def __init__(self, make, model):\n",
        "        self._make = make   # Protected attribute\n",
        "        self._model = model # Protected attribute\n",
        "\n",
        "    def _display(self):     # Protected method\n",
        "        return f\"{self._make} {self._model}\"\n",
        "\n",
        "class ElectricCar(Car):\n",
        "    def display_info(self):\n",
        "        return self._display()  # Accessible in subclass\n",
        "\n",
        "car1 = ElectricCar(\"Tesla\", \"Model S\")\n",
        "print(car1._make)      # Still accessible outside, but discouraged\n",
        "print(car1.display_info())  # Accessible within subclass\n",
        "\n",
        "```\n",
        "\n",
        "3. Private:\n",
        "Denoted by: Two leading underscores (__).\n",
        "\n",
        "Accessibility: Private attributes and methods are accessible only within the class where they are defined. They are not directly accessible from outside the class or in subclasses. Python uses name mangling to make it harder (though not impossible) to access private members.\n",
        "\n",
        "Example:\n",
        "\n",
        "```\n",
        "class Car:\n",
        "    def __init__(self, make, model):\n",
        "        self.__make = make   # Private attribute\n",
        "        self.__model = model # Private attribute\n",
        "\n",
        "    def __display(self):     # Private method\n",
        "        return f\"{self.__make} {self.__model}\"\n",
        "\n",
        "    def show_info(self):     # Public method that accesses private method\n",
        "        return self.__display()\n",
        "\n",
        "car1 = Car(\"Honda\", \"Civic\")\n",
        "print(car1.show_info())  # Accessible through a public method\n",
        "# print(car1.__make)  # This will raise an AttributeError\n",
        "```\n",
        "Even though you can't access private attributes directly, you can still access them using name mangling with the following syntax:\n",
        "\n",
        "```\n",
        "print(car1._Car__make)  # Output: Honda\n",
        "```"
      ],
      "metadata": {
        "id": "9PLkFbPjgSmh"
      }
    },
    {
      "cell_type": "markdown",
      "source": [
        "6. Describe the five types of inheritance in Python. Provide a simple example of multiple inheritance"
      ],
      "metadata": {
        "id": "h2ybT4Z7gihM"
      }
    },
    {
      "cell_type": "markdown",
      "source": [
        "In Python, there are five types of inheritance that allow a class to inherit properties and methods from another class. Each type represents a different inheritance structure.\n",
        "\n",
        "1. Single Inheritance:\n",
        "In single inheritance, a subclass inherits from only one parent class. This is the simplest form of inheritance.\n",
        "\n",
        "Example:\n",
        "\n",
        "```\n",
        "class Parent:\n",
        "    def display(self):\n",
        "        print(\"This is the Parent class\")\n",
        "\n",
        "class Child(Parent):\n",
        "    def show(self):\n",
        "        print(\"This is the Child class\")\n",
        "\n",
        "child = Child()\n",
        "child.display()  # Output: This is the Parent class\n",
        "child.show()     # Output: This is the Child class\n",
        "\n",
        "```\n",
        "\n",
        "2. Multiple Inheritance:\n",
        "In multiple inheritance, a subclass inherits from more than one parent class. This means the child class has access to properties and methods of all parent classes.\n",
        "\n",
        "Example (detailed below).\n",
        "\n",
        "3. Multilevel Inheritance:\n",
        "In multilevel inheritance, a class is derived from a class that is already derived from another class, creating a chain of inheritance.\n",
        "\n",
        "Example:\n",
        "\n",
        "```\n",
        "class Grandparent:\n",
        "    def speak(self):\n",
        "        print(\"This is the Grandparent class\")\n",
        "\n",
        "class Parent(Grandparent):\n",
        "    def talk(self):\n",
        "        print(\"This is the Parent class\")\n",
        "\n",
        "class Child(Parent):\n",
        "    def display(self):\n",
        "        print(\"This is the Child class\")\n",
        "\n",
        "child = Child()\n",
        "child.speak()   # Output: This is the Grandparent class\n",
        "child.talk()    # Output: This is the Parent class\n",
        "child.display() # Output: This is the Child class\n",
        "\n",
        "```\n",
        "\n",
        "4. Hierarchical Inheritance:\n",
        "In hierarchical inheritance, multiple subclasses inherit from a single parent class. Each subclass can have its own properties and methods.\n",
        "\n",
        "Example:\n",
        "\n",
        "```\n",
        "class Parent:\n",
        "    def display(self):\n",
        "        print(\"This is the Parent class\")\n",
        "\n",
        "class Child1(Parent):\n",
        "    def show1(self):\n",
        "        print(\"This is Child1 class\")\n",
        "\n",
        "class Child2(Parent):\n",
        "    def show2(self):\n",
        "        print(\"This is Child2 class\")\n",
        "\n",
        "child1 = Child1()\n",
        "child1.display()  # Output: This is the Parent class\n",
        "child1.show1()    # Output: This is Child1 class\n",
        "\n",
        "child2 = Child2()\n",
        "child2.display()  # Output: This is the Parent class\n",
        "child2.show2()    # Output: This is Child2 class\n",
        "```\n",
        "\n",
        "5. Hybrid Inheritance:\n",
        "Hybrid inheritance is a combination of two or more types of inheritance. This can involve multiple, single, or hierarchical inheritance patterns, depending on the structure of the classes.\n",
        "\n",
        "Example:\n",
        "\n",
        "```\n",
        "class Parent:\n",
        "    def display(self):\n",
        "        print(\"This is the Parent class\")\n",
        "\n",
        "class Child1(Parent):\n",
        "    def show1(self):\n",
        "        print(\"This is Child1 class\")\n",
        "\n",
        "class Child2(Parent):\n",
        "    def show2(self):\n",
        "        print(\"This is Child2 class\")\n",
        "\n",
        "class Grandchild(Child1, Child2):\n",
        "    def show3(self):\n",
        "        print(\"This is the Grandchild class\")\n",
        "\n",
        "grandchild = Grandchild()\n",
        "grandchild.display()  # Output: This is the Parent class (inherited from Parent)\n",
        "grandchild.show1()    # Output: This is Child1 class (inherited from Child1)\n",
        "grandchild.show2()    # Output: This is Child2 class (inherited from Child2)\n",
        "grandchild.show3()    # Output: This is the Grandchild class\n",
        "```\n",
        "\n",
        "Example of Multiple Inheritance:\n",
        "In multiple inheritance, a class inherits from more than one class. This allows the subclass to have access to methods and attributes of all parent classes.\n",
        "\n",
        "Example:\n",
        "\n",
        "```\n",
        "class Father:\n",
        "    def speak(self):\n",
        "        print(\"Father says: I am the Father\")\n",
        "\n",
        "class Mother:\n",
        "    def talk(self):\n",
        "        print(\"Mother says: I am the Mother\")\n",
        "\n",
        "class Child(Father, Mother):\n",
        "    def greet(self):\n",
        "        print(\"Child says: I am the Child\")\n",
        "\n",
        "# Create an instance of Child\n",
        "child = Child()\n",
        "\n",
        "# Calling methods from both parent classes\n",
        "child.speak()  # Output: Father says: I am the Father\n",
        "child.talk()   # Output: Mother says: I am the Mother\n",
        "child.greet()  # Output: Child says: I am the Child\n",
        "\n",
        "```"
      ],
      "metadata": {
        "id": "TTsxL0T-gpZj"
      }
    },
    {
      "cell_type": "markdown",
      "source": [
        "7. What is the Method Resolution Order (MRO) in Python? How can you retrieve it programmatically?\n",
        "\n"
      ],
      "metadata": {
        "id": "gung-P6vhDiv"
      }
    },
    {
      "cell_type": "markdown",
      "source": [
        "Method Resolution Order (MRO) in Python\n",
        "Method Resolution Order (MRO) is the order in which Python looks for a method or attribute in a hierarchy of classes during inheritance. When you call a method on an object, Python needs to determine which class's method should be invoked, especially in cases of multiple inheritance. MRO defines the path Python follows to resolve method calls.\n",
        "\n",
        "Python follows the C3 Linearization Algorithm (also known as the C3 superclass linearization) to determine the MRO. This ensures that:\n",
        "\n",
        "* A class's method is checked before its parent classes.\n",
        "* Methods from parent classes are checked from left to right (based on inheritance declaration).\n",
        "* In case of multiple inheritance, the order respects the structure and does not violate any inheritance hierarchy.\n",
        "Retrieving the MRO Programmatically\n",
        "You can retrieve the MRO of a class using:\n",
        "\n",
        "* The __mro__ attribute (available on the class).\n",
        "* The mro() method, which returns the MRO as a list.\n",
        "* Using the help() function to display the MRO along with other class information.\n",
        "Example of Retrieving MRO\n",
        "```\n",
        "class A:\n",
        "    def method(self):\n",
        "        print(\"A's method\")\n",
        "class B(A):\n",
        "    def method(self):\n",
        "        print(\"B's method\")\n",
        "class C(A):\n",
        "    def method(self):\n",
        "        print(\"C's method\")\n",
        "class D(B, C):\n",
        "    pass\n",
        "# Retrieve MRO using __mro__ attribute\n",
        "print(D.__mro__)\n",
        "# Retrieve MRO using the mro() method\n",
        "print(D.mro())\n",
        "# Retrieve MRO using help()\n",
        "help(D)\n",
        "\n",
        "```\n",
        "Output:\n",
        "\n",
        "\n",
        "(<class '__main__.D'>, <class '__main__.B'>, <class '__main__.C'>, <class '__main__.A'>, <class 'object'>)\n",
        "[<class '__main__.D'>, <class '__main__.B'>, <class '__main__.C'>, <class '__main__.A'>, <class 'object'>]\n",
        "Help on class D in module __main__:\n",
        "...\n",
        " |  Method resolution order:\n",
        " |      D\n",
        " |      B\n",
        " |      C\n",
        " |      A\n",
        " |      builtins.object\n",
        "...\n"
      ],
      "metadata": {
        "id": "kSLMl4ADhPSx"
      }
    },
    {
      "cell_type": "markdown",
      "source": [
        "8. Create an abstract base class `Shape` with an abstract method `area()`. Then create two subclasses\n",
        "`Circle` and `Rectangle` that implement the `area()` method."
      ],
      "metadata": {
        "id": "_zYpx4wnhv_e"
      }
    },
    {
      "cell_type": "code",
      "source": [
        "from abc import ABC, abstractmethod\n",
        "import math\n",
        "\n",
        "# Abstract base class\n",
        "class Shape(ABC):\n",
        "\n",
        "    # Abstract method\n",
        "    @abstractmethod\n",
        "    def area(self):\n",
        "        pass\n",
        "\n",
        "# Subclass: Circle\n",
        "class Circle(Shape):\n",
        "\n",
        "    def __init__(self, radius):\n",
        "        self.radius = radius\n",
        "\n",
        "    # Implementing the abstract method\n",
        "    def area(self):\n",
        "        return math.pi * self.radius ** 2\n",
        "\n",
        "# Subclass: Rectangle\n",
        "class Rectangle(Shape):\n",
        "\n",
        "    def __init__(self, length, width):\n",
        "        self.length = length\n",
        "        self.width = width\n",
        "\n",
        "    # Implementing the abstract method\n",
        "    def area(self):\n",
        "        return self.length * self.width\n",
        "\n",
        "# Example usage\n",
        "circle = Circle(5)\n",
        "rectangle = Rectangle(4, 6)\n",
        "\n",
        "print(f\"Area of the circle: {circle.area()}\")        # Output: Area of the circle: 78.53981633974483\n",
        "print(f\"Area of the rectangle: {rectangle.area()}\")  # Output: Area of the rectangle: 24\n"
      ],
      "metadata": {
        "id": "N6xxtNV9hzl-"
      },
      "execution_count": null,
      "outputs": []
    },
    {
      "cell_type": "markdown",
      "source": [
        "9. Demonstrate polymorphism by creating a function that can work with different shape objects to calculate\n",
        "and print their areas."
      ],
      "metadata": {
        "id": "bK1nRPBch7CA"
      }
    },
    {
      "cell_type": "code",
      "source": [
        "from abc import ABC, abstractmethod\n",
        "import math\n",
        "\n",
        "# Abstract base class\n",
        "class Shape(ABC):\n",
        "\n",
        "    @abstractmethod\n",
        "    def area(self):\n",
        "        pass\n",
        "\n",
        "# Subclass: Circle\n",
        "class Circle(Shape):\n",
        "\n",
        "    def __init__(self, radius):\n",
        "        self.radius = radius\n",
        "\n",
        "    def area(self):\n",
        "        return math.pi * self.radius ** 2\n",
        "\n",
        "# Subclass: Rectangle\n",
        "class Rectangle(Shape):\n",
        "\n",
        "    def __init__(self, length, width):\n",
        "        self.length = length\n",
        "        self.width = width\n",
        "\n",
        "    def area(self):\n",
        "        return self.length * self.width\n",
        "\n",
        "# Subclass: Triangle\n",
        "class Triangle(Shape):\n",
        "\n",
        "    def __init__(self, base, height):\n",
        "        self.base = base\n",
        "        self.height = height\n",
        "\n",
        "    def area(self):\n",
        "        return 0.5 * self.base * self.height\n",
        "\n",
        "# Polymorphic function to calculate and print the area\n",
        "def print_area(shape):\n",
        "    print(f\"The area of the {shape.__class__.__name__} is: {shape.area()}\")\n",
        "\n",
        "# Example usage\n",
        "circle = Circle(5)\n",
        "rectangle = Rectangle(4, 6)\n",
        "triangle = Triangle(3, 7)\n",
        "\n",
        "# Using the polymorphic function\n",
        "print_area(circle)      # Output: The area of the Circle is: 78.53981633974483\n",
        "print_area(rectangle)   # Output: The area of the Rectangle is: 24\n",
        "print_area(triangle)    # Output: The area of the Triangle is: 10.5\n"
      ],
      "metadata": {
        "id": "2tG6oa3QiEMZ"
      },
      "execution_count": null,
      "outputs": []
    },
    {
      "cell_type": "markdown",
      "source": [
        "10. Implement encapsulation in a `BankAccount` class with private attributes for `balance` and\n",
        "`account_number`. Include methods for deposit, withdrawal, and balance inquiry."
      ],
      "metadata": {
        "id": "s1UVJnUaiF-c"
      }
    },
    {
      "cell_type": "code",
      "source": [
        "class BankAccount:\n",
        "    def __init__(self, account_number, balance=0):\n",
        "        # Private attributes\n",
        "        self.__account_number = account_number\n",
        "        self.__balance = balance\n",
        "\n",
        "    # Public method to deposit money\n",
        "    def deposit(self, amount):\n",
        "        if amount > 0:\n",
        "            self.__balance += amount\n",
        "            print(f\"Deposited {amount}. New balance is: {self.__balance}\")\n",
        "        else:\n",
        "            print(\"Deposit amount must be positive.\")\n",
        "\n",
        "    # Public method to withdraw money\n",
        "    def withdraw(self, amount):\n",
        "        if 0 < amount <= self.__balance:\n",
        "            self.__balance -= amount\n",
        "            print(f\"Withdrew {amount}. New balance is: {self.__balance}\")\n",
        "        else:\n",
        "            print(\"Insufficient balance or invalid withdrawal amount.\")\n",
        "\n",
        "    # Public method to inquire balance\n",
        "    def get_balance(self):\n",
        "        return self.__balance\n",
        "\n",
        "    # Public method to get the account number (but not modify it)\n",
        "    def get_account_number(self):\n",
        "        return self.__account_number\n",
        "\n",
        "# Example usage\n",
        "account = BankAccount(\"1234567890\", 5000)\n",
        "\n",
        "# Deposit money\n",
        "account.deposit(1000)  # Output: Deposited 1000. New balance is: 6000\n",
        "\n",
        "# Withdraw money\n",
        "account.withdraw(1500)  # Output: Withdrew 1500. New balance is: 4500\n",
        "\n",
        "# Inquire balance\n",
        "print(f\"Balance inquiry: {account.get_balance()}\")  # Output: Balance inquiry: 4500\n",
        "\n",
        "# Try accessing private attributes directly (will raise AttributeError)\n",
        "# print(account.__balance)  # This will raise an AttributeError\n",
        "\n",
        "# Access account number through the public method\n",
        "print(f\"Account Number: {account.get_account_number()}\")  # Output: Account Number: 1234567890\n"
      ],
      "metadata": {
        "id": "xGBXsQuFiQT5"
      },
      "execution_count": null,
      "outputs": []
    },
    {
      "cell_type": "markdown",
      "source": [
        "11. Write a class that overrides the `__str__` and `__add__` magic methods. What will these methods allow\n",
        "you to do?"
      ],
      "metadata": {
        "id": "WMGqhDQjiSx-"
      }
    },
    {
      "cell_type": "code",
      "source": [
        "class Vector:\n",
        "    def __init__(self, x, y):\n",
        "        self.x = x\n",
        "        self.y = y\n",
        "\n",
        "    # Override __str__ to provide a meaningful string representation\n",
        "    def __str__(self):\n",
        "        return f\"Vector({self.x}, {self.y})\"\n",
        "\n",
        "    # Override __add__ to define how to add two Vector objects\n",
        "    def __add__(self, other):\n",
        "        if isinstance(other, Vector):\n",
        "            return Vector(self.x + other.x, self.y + other.y)\n",
        "        return NotImplemented\n",
        "\n",
        "# Example usage\n",
        "v1 = Vector(2, 3)\n",
        "v2 = Vector(4, 5)\n",
        "\n",
        "# Using __str__ method\n",
        "print(v1)  # Output: Vector(2, 3)\n",
        "print(v2)  # Output: Vector(4, 5)\n",
        "\n",
        "# Using __add__ method\n",
        "v3 = v1 + v2\n",
        "print(v3)  # Output: Vector(6, 8)\n"
      ],
      "metadata": {
        "id": "p5YMPBR9ieDm"
      },
      "execution_count": null,
      "outputs": []
    },
    {
      "cell_type": "markdown",
      "source": [
        "12.  Create a decorator that measures and prints the execution time of a function."
      ],
      "metadata": {
        "id": "LTO0tU2YifY_"
      }
    },
    {
      "cell_type": "code",
      "source": [
        "import time\n",
        "\n",
        "def timing_decorator(func):\n",
        "    \"\"\"Decorator to measure the execution time of a function.\"\"\"\n",
        "    def wrapper(*args, **kwargs):\n",
        "        start_time = time.time()  # Record the start time\n",
        "        result = func(*args, **kwargs)  # Call the original function\n",
        "        end_time = time.time()  # Record the end time\n",
        "        execution_time = end_time - start_time  # Calculate the execution time\n",
        "        print(f\"Execution time of {func.__name__}: {execution_time:.6f} seconds\")\n",
        "        return result  # Return the result of the original function\n",
        "    return wrapper\n",
        "\n",
        "# Example usage of the decorator\n",
        "@timing_decorator\n",
        "def example_function(n):\n",
        "    \"\"\"Function that simulates some work by sleeping.\"\"\"\n",
        "    time.sleep(n)  # Simulate a delay of n seconds\n",
        "    return \"Finished\"\n",
        "\n",
        "# Call the decorated function\n",
        "result = example_function(2)\n",
        "print(result)  # Output: Finished\n"
      ],
      "metadata": {
        "colab": {
          "base_uri": "https://localhost:8080/"
        },
        "id": "vjObi-3oish5",
        "outputId": "9fc7e765-c811-4157-9bdb-d9cd459c3160"
      },
      "execution_count": 1,
      "outputs": [
        {
          "output_type": "stream",
          "name": "stdout",
          "text": [
            "Execution time of example_function: 2.002101 seconds\n",
            "Finished\n"
          ]
        }
      ]
    },
    {
      "cell_type": "markdown",
      "source": [
        "13. Explain the concept of the Diamond Problem in multiple inheritance. How does Python resolve it?"
      ],
      "metadata": {
        "id": "EDoH2EU5ivtQ"
      }
    },
    {
      "cell_type": "markdown",
      "source": [
        "The Diamond Problem occurs in multiple inheritance scenarios when a class inherits from two classes that have a common ancestor. This situation can create ambiguity in the method resolution order (MRO) because the derived class might inherit methods from multiple paths in the inheritance hierarchy.\n",
        "\n",
        "Diamond Problem Illustration\n",
        "Consider the following class structure:\n",
        "\n",
        "\n",
        "      A\n",
        "     / \\\n",
        "    B   C\n",
        "     \\ /\n",
        "      D\n",
        "Class A is the base class.\n",
        "Classes B and C inherit from A.\n",
        "Class D inherits from both B and C.\n",
        "When D calls a method that exists in A, it's ambiguous whether to call the method from B or C, leading to potential conflicts.\n",
        "\n",
        "Python's Resolution of the Diamond Problem\n",
        "Python uses the C3 linearization algorithm (also known as C3 superclass linearization) to resolve the Diamond Problem. This algorithm creates a consistent method resolution order by following specific rules:\n",
        "\n",
        "* Depth-First Search: It traverses the inheritance hierarchy depth-first, left to right.\n",
        "* Preservation of Order: The order of bases is preserved, so the classes are considered in the order they are defined.\n",
        "* No Repetition: Each class appears only once in the resolution order.\n",
        "\n",
        "Here's an example that demonstrates the Diamond Problem and how Python resolves it:\n",
        "\n",
        "```\n",
        "class A:\n",
        "    def show(self):\n",
        "        print(\"Method from class A\")\n",
        "\n",
        "class B(A):\n",
        "    def show(self):\n",
        "        print(\"Method from class B\")\n",
        "        \n",
        "class C(A):\n",
        "    def show(self):\n",
        "        print(\"Method from class C\")\n",
        "\n",
        "class D(B, C):\n",
        "    pass\n",
        "\n",
        "# Create an instance of D and call the show method\n",
        "d = D()\n",
        "d.show()  \n",
        "# Output: Method from class B\n",
        "```"
      ],
      "metadata": {
        "id": "OMOmsyOqi7QT"
      }
    },
    {
      "cell_type": "markdown",
      "source": [
        "14. Write a class method that keeps track of the number of instances created from a class"
      ],
      "metadata": {
        "id": "s2rVDyAkjQ45"
      }
    },
    {
      "cell_type": "code",
      "source": [
        "class InstanceCounter:\n",
        "    instance_count = 0  # Class attribute to keep track of instance count\n",
        "\n",
        "    def __init__(self):\n",
        "        InstanceCounter.instance_count += 1  # Increment the count each time an instance is created\n",
        "\n",
        "    @classmethod\n",
        "    def get_instance_count(cls):\n",
        "        \"\"\"Class method to get the number of instances created.\"\"\"\n",
        "        return cls.instance_count\n",
        "\n",
        "# Example usage\n",
        "obj1 = InstanceCounter()\n",
        "obj2 = InstanceCounter()\n",
        "obj3 = InstanceCounter()\n",
        "\n",
        "# Retrieve the count of instances created\n",
        "print(f\"Number of instances created: {InstanceCounter.get_instance_count()}\")  # Output: 3\n"
      ],
      "metadata": {
        "colab": {
          "base_uri": "https://localhost:8080/"
        },
        "id": "lQjr2QuJjg3S",
        "outputId": "94c135f9-0149-4b1d-9157-be55d3b5cf2e"
      },
      "execution_count": 2,
      "outputs": [
        {
          "output_type": "stream",
          "name": "stdout",
          "text": [
            "Number of instances created: 3\n"
          ]
        }
      ]
    },
    {
      "cell_type": "markdown",
      "source": [
        "15.  Implement a static method in a class that checks if a given year is a leap year"
      ],
      "metadata": {
        "id": "hGlUmb_gjjaU"
      }
    },
    {
      "cell_type": "code",
      "source": [
        "class YearChecker:\n",
        "    @staticmethod\n",
        "    def is_leap_year(year):\n",
        "        \"\"\"Static method to check if a given year is a leap year.\"\"\"\n",
        "        if (year % 4 == 0 and year % 100 != 0) or (year % 400 == 0):\n",
        "            return True\n",
        "        return False\n",
        "\n",
        "# Example usage\n",
        "year = int(input(\"Enter a year:\"))\n",
        "if YearChecker.is_leap_year(year):\n",
        "    print(f\"{year} is a leap year.\")  # Output: 2024 is a leap year.\n",
        "else:\n",
        "    print(f\"{year} is not a leap year.\")\n",
        "\n"
      ],
      "metadata": {
        "colab": {
          "base_uri": "https://localhost:8080/"
        },
        "id": "WfXP5jvSjveb",
        "outputId": "9efb5e36-5ec8-46e6-b1af-45dc26db0854"
      },
      "execution_count": 4,
      "outputs": [
        {
          "output_type": "stream",
          "name": "stdout",
          "text": [
            "Enter a year:2024\n",
            "2024 is a leap year.\n"
          ]
        }
      ]
    }
  ]
}